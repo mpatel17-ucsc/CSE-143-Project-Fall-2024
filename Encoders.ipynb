{
 "cells": [
  {
   "cell_type": "code",
   "execution_count": null,
   "metadata": {},
   "outputs": [],
   "source": [
    "import pandas as pd\n",
    "import numpy as np\n",
    "import re\n",
    "import json\n",
    "import regex\n",
    "import nltk # TODO: learnable POS encoder to add to model\n",
    "from transformers import BertTokenizer\n",
    "from sklearn.model_selection import train_test_split\n",
    "from nltk import pos_tag\n",
    "from transformers import AutoTokenizer"
   ]
  },
  {
   "cell_type": "code",
   "execution_count": null,
   "metadata": {},
   "outputs": [],
   "source": [
    "df_train = pd.read_csv('data/train.csv')\n",
    "df_test = pd.read_csv('data/test.csv')"
   ]
  },
  {
   "cell_type": "code",
   "execution_count": null,
   "metadata": {},
   "outputs": [],
   "source": [
    "def clean_text(text):\n",
    "    if not isinstance(text, str):\n",
    "        text = str(text)\n",
    "    text = re.sub(r'<.*?>', ' ', text)  #regex will remove html tags\n",
    "    # text = re.sub(r'[^\\w\\s]', ' ', text)  # Remove punctuation\n",
    "    text = text.lower()\n",
    "    text = text.strip()\n",
    "    return text\n",
    "def load_contractions(file_path=\"./contractions.json\"):\n",
    "    try:\n",
    "        with open(file_path, 'r') as file:\n",
    "            data = json.load(file)  # Load JSON data\n",
    "        return data\n",
    "    except json.JSONDecodeError as e:\n",
    "        return None\n",
    "    except FileNotFoundError as e:\n",
    "        return None\n",
    "contractions = load_contractions()\n",
    "contractions_re = re.compile(r'\\b(' + '|'.join(re.escape(key) for key in contractions.keys()) + r')\\b')\n",
    "def expand_contractions(text):\n",
    "    return contractions_re.sub(lambda x: contractions[x.group(0)], text)\n",
    "\n",
    "def process_dataframe(frame):\n",
    "    frame = frame.dropna(subset=['comment_text'])\n",
    "    frame[\"comment_text\"] = frame[\"comment_text\"].apply(expand_contractions)\n",
    "    return frame\n",
    "TO_REMOVE = '\"()+,-./:;<=>[\\\\]^_`{|}~\\t\\n“”’\\'∞θ÷α•à−β∅³π‘₹´°£€\\×™√²—'\n",
    "OBSCENITY = '!#$%&*?@'\n",
    "def remove_chars(text):\n",
    "    pattern = f\"[{re.escape(TO_REMOVE)}]\"\n",
    "    text = re.sub(pattern, \" \", text)\n",
    "    pattern = f\"[{re.escape(OBSCENITY)}]\"\n",
    "    return re.sub(pattern, \"\", text)\n"
   ]
  },
  {
   "cell_type": "code",
   "execution_count": null,
   "metadata": {},
   "outputs": [],
   "source": [
    "df_train = process_dataframe(df_train)\n",
    "df_test = process_dataframe(df_test)\n",
    "df_train['comment_text'] = df_train['comment_text'].str.replace(r'\\bhttp?\\S+\\b', 'link', regex=True)\n",
    "df_test['comment_text'] = df_test['comment_text'].str.replace(r'\\bhttp?\\S+\\b', 'link', regex=True)\n",
    "df_train[\"comment_text\"]= df_train[\"comment_text\"].apply(clean_text)\n",
    "df_test[\"comment_text\"] = df_test[\"comment_text\"].apply(clean_text)\n",
    "df_train[\"comment_text\"] = df_train[\"comment_text\"].apply(remove_chars)\n",
    "df_test[\"comment_text\"] = df_test[\"comment_text\"].apply(remove_chars)"
   ]
  },
  {
   "cell_type": "code",
   "execution_count": null,
   "metadata": {},
   "outputs": [],
   "source": [
    "train_text = df_train[\"comment_text\"].astype(str)\n",
    "train_labels = df_train[\"target\"].astype(float)\n",
    "train_texts, val_texts, train_labels, val_labels = train_test_split(train_text, train_labels, test_size=0.1, random_state=7)\n",
    "def pos_tag_tokens(tokens, tokenizer):\n",
    "    # Decode tokens back into words (for POS tagging)\n",
    "    decoded = tokenizer.convert_ids_to_tokens(tokens)\n",
    "    posTags = []\n",
    "    for token in decoded:\n",
    "        if token in ['[CLS]', '[SEP]']:\n",
    "            posTags.append(('SPECIAL', token))\n",
    "        else:\n",
    "            word = token.replace('##', '')\n",
    "            posTags.append(pos_tag([word])[0])\n",
    "   \n",
    "    return posTags\n",
    "tags = ['LS', 'TO', 'VBN', \"''\", 'WP', 'UH', 'VBG', 'JJ', 'VBZ', '--', 'VBP', 'NN', 'DT', 'PRP', ':', 'WP$', 'NNPS', 'PRP$', 'WDT', '(', ')', '.', ',', '``', '$', 'RB', 'RBR', 'RBS', 'VBD', 'IN', 'FW', 'RP', 'JJR', 'JJS', 'PDT', 'MD', 'VB', 'WRB', 'NNP', 'EX', 'NNS', 'SYM', 'CC', 'CD', 'POS']\n",
    "taggerToId = {'SPECIAL': 0, 'NN': 1, 'VB': 2, 'JJ': 3, 'RB': 4, 'IN': 5}\n",
    "maxInd = 5\n",
    "for tag in tags:\n",
    "    if tag in taggerToId:\n",
    "        continue\n",
    "    else:\n",
    "        maxInd += 1\n",
    "        taggerToId[tag] = tag\n",
    "def convertToInd(tags):\n",
    "    return [taggerToId.get(tag, 0) for word, tag in tags]\n"
   ]
  },
  {
   "cell_type": "code",
   "execution_count": null,
   "metadata": {},
   "outputs": [],
   "source": [
    "# tokenizer = BertTokenizer.from_pretrained(\"bert-base-uncased\")\n",
    "tokenizer = AutoTokenizer.from_pretrained(\"bert-base-uncased\", use_fast=True)\n",
    "print(tokenizer.is_fast)\n",
    "train_toks = tokenizer(train_texts.tolist(), truncation=True, padding=True, max_length=512)\n",
    "val_toks = tokenizer(val_texts.tolist(), truncation=True, padding=True, max_length=512)"
   ]
  },
  {
   "cell_type": "code",
   "execution_count": null,
   "metadata": {},
   "outputs": [],
   "source": [
    "train_tags = [pos_tag_tokens(ids, tokenizer) for ids in train_toks['input_ids']]\n",
    "val_tags =[pos_tag_tokens(ids, tokenizer) for ids in val_toks['input_ids']]  \n",
    "trainTagInds = [convertToInd(tags) for tags in train_tags]\n",
    "valTagInds = [convertToInd(tags) for tags in val_tags]\n",
    "train_tags\n"
   ]
  }
 ],
 "metadata": {
  "kernelspec": {
   "display_name": "Python 3",
   "language": "python",
   "name": "python3"
  },
  "language_info": {
   "codemirror_mode": {
    "name": "ipython",
    "version": 3
   },
   "file_extension": ".py",
   "mimetype": "text/x-python",
   "name": "python",
   "nbconvert_exporter": "python",
   "pygments_lexer": "ipython3",
   "version": "3.12.8"
  }
 },
 "nbformat": 4,
 "nbformat_minor": 4
}
